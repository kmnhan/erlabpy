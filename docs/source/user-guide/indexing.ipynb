{
 "cells": [
  {
   "cell_type": "markdown",
   "id": "7309f5b7",
   "metadata": {},
   "source": [
    "# Selecting & indexing\n",
    "\n",
    "In most cases, the powerful data manipulation and indexing methods provided by {mod}`xarray` are sufficient; see the [corresponding section of the xarray documentation](https://docs.xarray.dev/en/stable/user-guide/indexing.html).\n",
    "\n",
    "In this guide, we will briefly cover some frequently used {mod}`xarray` features and introduce some additional methods provided by ERLabPy."
   ]
  },
  {
   "cell_type": "markdown",
   "id": "effc6d5e",
   "metadata": {},
   "source": [
    "## Basic `xarray` operations\n"
   ]
  },
  {
   "cell_type": "code",
   "execution_count": null,
   "id": "a1be0841",
   "metadata": {},
   "outputs": [],
   "source": [
    "import xarray as xr\n",
    "\n",
    "xr.set_options(display_expand_data=False)"
   ]
  },
  {
   "cell_type": "markdown",
   "id": "fd4ee1a3",
   "metadata": {},
   "source": [
    "First, let us generate some example data: a simple tight binding simulation of\n",
    "graphene-like bands with an exaggerated lattice constant."
   ]
  },
  {
   "cell_type": "code",
   "execution_count": null,
   "id": "8633209c",
   "metadata": {
    "editable": true,
    "slideshow": {
     "slide_type": ""
    },
    "tags": []
   },
   "outputs": [],
   "source": [
    "from erlab.io.exampledata import generate_data\n",
    "\n",
    "dat = generate_data(seed=1).T"
   ]
  },
  {
   "cell_type": "code",
   "execution_count": null,
   "id": "082ec477",
   "metadata": {
    "editable": true,
    "slideshow": {
     "slide_type": ""
    },
    "tags": []
   },
   "outputs": [],
   "source": [
    "dat"
   ]
  },
  {
   "cell_type": "markdown",
   "id": "c61ee48d",
   "metadata": {},
   "source": [
    "We have a three-dimensional array of intensity given in terms of $k_x$, $k_y$, and\n",
    "binding energy. \n"
   ]
  },
  {
   "cell_type": "raw",
   "id": "16477885",
   "metadata": {
    "editable": true,
    "raw_mimetype": "text/restructuredtext",
    "slideshow": {
     "slide_type": ""
    },
    "tags": [],
    "vscode": {
     "languageId": "raw"
    }
   },
   "source": [
    "For extracting 2D data (cuts and constant energy surfaces) or 1D data (MDCs and EDCs)\n",
    "given the coordinate values, xarray provides {meth}`sel <xarray.DataArray.sel>`."
   ]
  },
  {
   "cell_type": "markdown",
   "id": "8b3790ed",
   "metadata": {},
   "source": [
    "Let's extract a cut along $k_y = 0.3$."
   ]
  },
  {
   "cell_type": "code",
   "execution_count": null,
   "id": "c00a34a2",
   "metadata": {
    "editable": true,
    "slideshow": {
     "slide_type": ""
    },
    "tags": []
   },
   "outputs": [],
   "source": [
    "dat.sel(ky=0.3, method=\"nearest\").plot()"
   ]
  },
  {
   "cell_type": "markdown",
   "id": "8f54de42",
   "metadata": {},
   "source": [
    "Likewise, the Fermi surface can be extracted like this:"
   ]
  },
  {
   "cell_type": "code",
   "execution_count": null,
   "id": "ee860369",
   "metadata": {},
   "outputs": [],
   "source": [
    "dat.sel(eV=0.0, method=\"nearest\").plot()"
   ]
  },
  {
   "cell_type": "markdown",
   "id": "eb7a04ab",
   "metadata": {},
   "source": [
    "You can also pass {class}`slice` objects to {meth}`sel <xarray.DataArray.sel>` to\n",
    "effectively crop the data. "
   ]
  },
  {
   "cell_type": "code",
   "execution_count": null,
   "id": "b495a686",
   "metadata": {},
   "outputs": [],
   "source": [
    "cut = dat.sel(ky=0.3, method=\"nearest\")\n",
    "cut.sel(kx=slice(-0.2, 0.8), eV=slice(-0.25, 0.05)).plot()"
   ]
  },
  {
   "cell_type": "markdown",
   "id": "987121ee",
   "metadata": {},
   "source": [
    "In many scenarios, it is necessary to perform integration across multiple indices. This can be done by slicing and then averaging. The following code returns a new DataArray with the intensity integrated over a window of 50 meV centered at $E_F$."
   ]
  },
  {
   "cell_type": "code",
   "execution_count": null,
   "id": "af14527c",
   "metadata": {},
   "outputs": [],
   "source": [
    "dat.sel(eV=slice(-0.025, 0.025)).mean(\"eV\")"
   ]
  },
  {
   "cell_type": "markdown",
   "id": "980dba49",
   "metadata": {},
   "source": [
    "However, doing this every time is cumbersome, and we have lost the coordinate `eV`. In\n",
    "the following sections, we introduce some utilities for convenient indexing."
   ]
  },
  {
   "cell_type": "markdown",
   "id": "6fa74853",
   "metadata": {},
   "source": [
    "## The `qsel` accessor\n",
    "\n",
    "ERLabPy adds many useful extensions to xarray objects in the form of {mod}`accessors <erlab.accessors>`.\n",
    "\n",
    "### Advanced selection\n",
    "\n",
    "One is the {meth}`xarray.DataArray.qsel` DataArray accessor, which streamlines the slicing and averaging process described above. It can be used like native DataArray methods:"
   ]
  },
  {
   "cell_type": "code",
   "execution_count": null,
   "id": "00d3b00f",
   "metadata": {},
   "outputs": [],
   "source": [
    "dat.qsel(eV=0.0, eV_width=0.05)"
   ]
  },
  {
   "cell_type": "markdown",
   "metadata": {},
   "source": [
    "Note that the averaged coordinate `eV` is automatically added to the data array. This\n",
    "is useful for further analysis.\n",
    "\n",
    "With {meth}`xarray.DataArray.qsel`, position along a dimension\n",
    "can be specified in three ways:\n",
    "\n",
    "- As a value and width: `eV=-0.1, eV_width=0.05`\n",
    "\n",
    "  The data is *averaged* over a slice of width `0.05`, centered at `-0.1` along the\n",
    "  dimension `'eV'`.\n",
    "\n",
    "- As a scalar value: `eV=0.0`\n",
    "\n",
    "  If no width is specified, the data is selected along the nearest value. It is\n",
    "  equivalent to passing `method='nearest'` to {meth}`xarray.DataArray.sel`.\n",
    "\n",
    "- As a slice: `eV=slice(-0.2, 0.05)`\n",
    "\n",
    "  The data is selected over the specified slice. No averaging is performed.\n",
    "\n",
    "The arguments can either be provided in a key-value form, or as a single dictionary.\n",
    "\n",
    "Unlike {meth}`xarray.DataArray.sel`, all of this can be combined in a single call:"
   ]
  },
  {
   "cell_type": "code",
   "execution_count": null,
   "id": "e3bdd1ba",
   "metadata": {},
   "outputs": [],
   "source": [
    "dat.qsel(kx=slice(-0.3, 0.3), ky=0.3, eV=0.0, eV_width=0.05)"
   ]
  },
  {
   "cell_type": "markdown",
   "id": "b87b1ce6",
   "metadata": {},
   "source": [
    ":::{note}\n",
    "\n",
    "In practice, you can generate the arguments for {meth}`xarray.DataArray.qsel` that reproduces the slice shown in [ImageTool](./imagetool.md) from the right-click menu of each plot.\n",
    "\n",
    ":::"
   ]
  },
  {
   "cell_type": "markdown",
   "id": "ef77e718",
   "metadata": {},
   "source": [
    "### Averaging data within a distance\n",
    "\n",
    "To average data over all data points within a certain distance of a given point, the method {meth}`xarray.DataArray.qsel.around` can be used.\n",
    "\n",
    "The following code plots the integrated EDCs near the K point ($k_x\\sim$ 0.52 Å $^{-1}$, $k_y\\sim$ 0.3 Å $^{-1}$) for different radii."
   ]
  },
  {
   "cell_type": "code",
   "execution_count": null,
   "id": "3f013c3b",
   "metadata": {},
   "outputs": [],
   "source": [
    "for radius in (0.03, 0.06, 0.09, 0.12):\n",
    "    dat.qsel.around(radius, kx=0.52, ky=0.3).plot()"
   ]
  },
  {
   "cell_type": "markdown",
   "id": "62f15d69",
   "metadata": {},
   "source": [
    "### Averaging across dimensions\n",
    "\n",
    "Taking a mean across multiple dimensions is a common operation, and can be performed easily with {meth}`xarray.DataArray.mean`. However, it is often necessary to preserve the coordinate information of the averaged dimension. In this case, {meth}`xarray.DataArray.qsel.average` can be used.\n",
    "\n",
    "The following code first selects the data around the Fermi level, and calculates the average of the intensity over the energy axis. The coordinate `eV` is preserved in the resulting DataArray."
   ]
  },
  {
   "cell_type": "code",
   "execution_count": null,
   "id": "cf8daddb",
   "metadata": {},
   "outputs": [],
   "source": [
    "dat.sel(eV=slice(-0.05, 0.05)).qsel.average(\"eV\")"
   ]
  },
  {
   "cell_type": "markdown",
   "id": "87d586e5",
   "metadata": {},
   "source": [
    "## Masking\n",
    "\n",
    "ERLabPy provides a way to mask data with arbitrary polygons.\n",
    "\n",
    ":::{admonition} Work in Progress\n",
    ":class: warning\n",
    "\n",
    "This part of the user guide is still under construction. For now, see the API reference at {mod}`erlab.analysis.mask`. For the full list of packages and modules provided by ERLabPy, see [API Reference](../reference)\n",
    "\n",
    ":::"
   ]
  },
  {
   "cell_type": "markdown",
   "id": "7dfdc482",
   "metadata": {},
   "source": [
    "Interpolation\n",
    "-------------"
   ]
  },
  {
   "cell_type": "markdown",
   "id": "145b1a81",
   "metadata": {},
   "source": [
    "In addition to the [powerful interpolation methods\n",
    "](https://docs.xarray.dev/en/latest/user-guide/interpolation.html) provided by\n",
    "{mod}`xarray`, ERLabPy provides a convenient way to interpolate data along an arbitrary\n",
    "path.\n",
    "\n",
    "Consider a Γ-M-K-Γ high symmetry path given as a list of `kx` and `ky` coordinates:"
   ]
  },
  {
   "cell_type": "code",
   "execution_count": null,
   "id": "4ab13824",
   "metadata": {},
   "outputs": [],
   "source": [
    "import erlab.plotting as eplt\n",
    "import matplotlib.pyplot as plt\n",
    "import numpy as np\n",
    "\n",
    "a = 6.97\n",
    "kx = [0, 2 * np.pi / (a * np.sqrt(3)), 2 * np.pi / (a * np.sqrt(3)), 0]\n",
    "ky = [0, 0, 2 * np.pi / (a * 3), 0]\n",
    "\n",
    "\n",
    "dat.qsel(eV=-0.2).qplot(aspect=\"equal\", cmap=\"Greys\")\n",
    "plt.plot(kx, ky, \"o-\")"
   ]
  },
  {
   "cell_type": "markdown",
   "id": "4e184892",
   "metadata": {},
   "source": [
    "The following code interpolates the data along this path with a step of 0.01 Å $^{-1}$ using {func}`slice_along_path <erlab.analysis.interpolate.slice_along_path>`."
   ]
  },
  {
   "cell_type": "code",
   "execution_count": null,
   "id": "bf4ec3c2",
   "metadata": {},
   "outputs": [],
   "source": [
    "import erlab.analysis as era\n",
    "\n",
    "dat_sliced = era.interpolate.slice_along_path(\n",
    "    dat, vertices={\"kx\": kx, \"ky\": ky}, step_size=0.01\n",
    ")\n",
    "dat_sliced"
   ]
  },
  {
   "cell_type": "markdown",
   "id": "84418499",
   "metadata": {},
   "source": [
    "We can see that the data has been interpolated along the path. The new coordinate `path` contains the distance along the path, and the dimensions `kx` and `ky` are now expressed in terms of `path`.\n",
    "\n",
    "The distance along the path can be calculated as the sum of the distances between consecutive points in the path."
   ]
  },
  {
   "cell_type": "code",
   "execution_count": null,
   "id": "c00bb21c",
   "metadata": {},
   "outputs": [],
   "source": [
    "dat_sliced.qplot(cmap=\"Greys\")\n",
    "eplt.fermiline()\n",
    "\n",
    "# Distance between each pair of consecutive points\n",
    "distances = np.linalg.norm(np.diff(np.vstack([kx, ky]), axis=-1), axis=0)\n",
    "seg_coords = np.concatenate(([0], np.cumsum(distances)))\n",
    "\n",
    "plt.xticks(seg_coords, labels=[\"Γ\", \"M\", \"K\", \"Γ\"])\n",
    "plt.xlim(0, seg_coords[-1])\n",
    "for seg in seg_coords[1:-1]:\n",
    "    plt.axvline(seg, ls=\"--\", c=\"k\", lw=1)"
   ]
  },
  {
   "cell_type": "markdown",
   "id": "b18b7010",
   "metadata": {},
   "source": [
    ":::{note}\n",
    "\n",
    "The {meth}`xarray.DataArray.qplot` method used to plot the data is an accessor that enables convenient plotting. You will learn more about it in the next section.\n",
    "\n",
    ":::"
   ]
  }
 ],
 "metadata": {
  "kernelspec": {
   "display_name": "erlab",
   "language": "python",
   "name": "python3"
  },
  "language_info": {
   "codemirror_mode": {
    "name": "ipython",
    "version": 3
   },
   "file_extension": ".py",
   "mimetype": "text/x-python",
   "name": "python",
   "nbconvert_exporter": "python",
   "pygments_lexer": "ipython3",
   "version": "3.12.9"
  }
 },
 "nbformat": 4,
 "nbformat_minor": 5
}
