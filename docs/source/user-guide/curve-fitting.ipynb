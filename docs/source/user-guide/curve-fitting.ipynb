{
 "cells": [
  {
   "cell_type": "markdown",
   "metadata": {},
   "source": [
    "# Curve fitting\n",
    "\n",
    "Curve fitting in ERLabPy largely relies on [lmfit](https://lmfit.github.io/lmfit-py/), a flexible curve fitting library for Python, and [xarray-lmfit](https://xarray-lmfit.readthedocs.io/stable/), a compatibility layer between xarray objects and lmfit models.\n",
    "\n",
    "ERLabPy also provides optional integration of lmfit models with [iminuit ](https://github.com/scikit-hep/iminuit), which is a Python interface to the [Minuit C++ library ](https://root.cern.ch/doc/master/Minuit2Page.html) developed at CERN.\n",
    "\n",
    ":::{note}\n",
    "\n",
    "If you are new to [lmfit](https://lmfit.github.io/lmfit-py/) or [xarray-lmfit](https://xarray-lmfit.readthedocs.io/stable/), visit the [lmfit documentation](https://lmfit.github.io/lmfit-py/fitting.html) and the [xarray-lmfit user guide](https://xarray-lmfit.readthedocs.io/stable/user-guide/) first!\n",
    "\n",
    ":::\n",
    "\n",
    "In this tutorial, we begin with some convenient functions that ERLabPy provides for common tasks such as Fermi edge fitting. Next, we will introduce some models that are available in ERLabPy. Finally, we will show how to use [iminuit](https://github.com/scikit-hep/iminuit) with lmfit models.\n"
   ]
  },
  {
   "cell_type": "code",
   "execution_count": null,
   "metadata": {},
   "outputs": [],
   "source": [
    "import lmfit\n",
    "import matplotlib.pyplot as plt\n",
    "import numpy as np\n",
    "import xarray as xr\n",
    "\n",
    "import erlab.analysis as era\n",
    "import erlab.plotting as eplt\n",
    "from erlab.io.exampledata import generate_gold_edge"
   ]
  },
  {
   "cell_type": "code",
   "execution_count": null,
   "metadata": {
    "nbsphinx": "hidden",
    "tags": [
     "remove-cell"
    ]
   },
   "outputs": [],
   "source": [
    "%config InlineBackend.figure_formats = [\"svg\", \"pdf\"]\n",
    "plt.rcParams[\"figure.constrained_layout.use\"] = True\n",
    "plt.rcParams[\"figure.dpi\"] = 96\n",
    "plt.rcParams[\"image.cmap\"] = \"viridis\"\n",
    "plt.rcParams[\"figure.figsize\"] = eplt.figwh(wscale=1.2, fixed_height=False)"
   ]
  },
  {
   "cell_type": "markdown",
   "metadata": {},
   "source": [
    "(fermi edge fitting)=\n",
    "\n",
    "## Fermi edge fitting\n",
    "\n",
    "Functions related to the Fermi edge are available in {mod}`erlab.analysis.gold`. To fit a polynomial to a Fermi edge, you can use {func}`erlab.analysis.gold.poly`.\n",
    "\n",
    "\n",
    ":::{hint}\n",
    "\n",
    "The interactive Fermi edge fitting tool {func}`erlab.interactive.goldtool` can be used to generate the code below interactively.\n",
    "\n",
    ":::"
   ]
  },
  {
   "cell_type": "code",
   "execution_count": null,
   "metadata": {},
   "outputs": [],
   "source": [
    "gold = generate_gold_edge(temp=100, seed=1)\n",
    "\n",
    "result = era.gold.poly(\n",
    "    gold,\n",
    "    angle_range=(-15, 15),\n",
    "    eV_range=(-0.2, 0.2),\n",
    "    temp=100.0,\n",
    "    vary_temp=False,\n",
    "    bkg_slope=False,\n",
    "    degree=2,\n",
    "    plot=True,\n",
    ")"
   ]
  },
  {
   "cell_type": "markdown",
   "metadata": {},
   "source": [
    "The resulting polynomial can be used to correct the Fermi edge with {func}`erlab.analysis.gold.correct_with_edge`:"
   ]
  },
  {
   "cell_type": "code",
   "execution_count": null,
   "metadata": {},
   "outputs": [],
   "source": [
    "corrected = era.gold.correct_with_edge(gold, result)\n",
    "\n",
    "corrected.qplot(cmap=\"Greys\")  # Plot the corrected data\n",
    "eplt.fermiline()  # Annotate the Fermi level"
   ]
  },
  {
   "cell_type": "markdown",
   "metadata": {},
   "source": [
    "(pre-defined-models)=\n",
    "\n",
    "## Pre-defined models\n",
    "\n",
    "Creating composite models with different prefixes every time can be cumbersome, so ERLabPy provides some pre-defined models in {mod}`erlab.analysis.fit.models`.\n",
    "\n",
    "Before fitting, let us generate a Gaussian peak on a linear background:"
   ]
  },
  {
   "cell_type": "code",
   "execution_count": null,
   "metadata": {},
   "outputs": [],
   "source": [
    "# Generate toy data\n",
    "x = np.linspace(0, 10, 50)\n",
    "y = -0.1 * x + 2 + 3 * np.exp(-((x - 5) ** 2) / (2 * 1**2))\n",
    "\n",
    "# Add some noise with fixed seed for reproducibility\n",
    "rng = np.random.default_rng(5)\n",
    "yerr = np.full_like(x, 0.3)\n",
    "y = rng.normal(y, yerr)\n",
    "\n",
    "# Plot the data\n",
    "plt.errorbar(x, y, yerr, fmt=\"o\")"
   ]
  },
  {
   "cell_type": "markdown",
   "metadata": {},
   "source": [
    "### Fitting multiple peaks\n",
    "\n",
    "One example is {class}`MultiPeakModel <erlab.analysis.fit.models.MultiPeakModel>`, which works like a composite model of multiple Gaussian or Lorentzian peaks.\n",
    "\n",
    "By supplying keyword arguments, you can specify the number of peaks, their shapes, whether to multiply with a Fermi-Dirac distribution, the shape of the background, and whether to convolve the result with experimental resolution.\n",
    "\n",
    "For a detailed explanation of all the arguments, see its {class}`documentation <erlab.analysis.fit.models.MultiPeakModel>`.\n",
    "\n",
    "The model can be constructed as follows:"
   ]
  },
  {
   "cell_type": "code",
   "execution_count": null,
   "metadata": {},
   "outputs": [],
   "source": [
    "model = era.fit.models.MultiPeakModel(\n",
    "    npeaks=1, peak_shapes=[\"gaussian\"], fd=False, background=\"linear\", convolve=False\n",
    ")\n",
    "params = model.make_params(p0_center=5.0, p0_width=0.2, p0_height=3.0)\n",
    "params"
   ]
  },
  {
   "cell_type": "markdown",
   "metadata": {},
   "source": [
    "We can now fit the model to the toy data:"
   ]
  },
  {
   "cell_type": "code",
   "execution_count": null,
   "metadata": {},
   "outputs": [],
   "source": [
    "result = model.fit(y, x=x, params=params, weights=1 / yerr)\n",
    "_ = result.plot()"
   ]
  },
  {
   "cell_type": "markdown",
   "metadata": {},
   "source": [
    "We can also plot components."
   ]
  },
  {
   "cell_type": "code",
   "execution_count": null,
   "metadata": {},
   "outputs": [],
   "source": [
    "comps = result.eval_components()\n",
    "plt.errorbar(x, y, yerr, fmt=\"o\", zorder=-1, alpha=0.3)\n",
    "plt.plot(x, result.eval(), label=\"Best fit\")\n",
    "plt.plot(x, comps[\"1Peak_p0\"], \"--\", label=\"Peak\")\n",
    "plt.plot(x, comps[\"1Peak_bkg\"], \"--\", label=\"Background\")\n",
    "plt.legend()"
   ]
  },
  {
   "cell_type": "markdown",
   "metadata": {},
   "source": [
    "Now, let us try fitting MDCs cut from simulated data with multiple Lorentzian peaks, convolved with a common instrumental resolution."
   ]
  },
  {
   "cell_type": "code",
   "execution_count": null,
   "metadata": {},
   "outputs": [],
   "source": [
    "from erlab.io.exampledata import generate_data\n",
    "\n",
    "data = generate_data(seed=1).T\n",
    "cut = data.qsel(ky=0.3)\n",
    "cut.qplot(colorbar=True)"
   ]
  },
  {
   "cell_type": "code",
   "execution_count": null,
   "metadata": {},
   "outputs": [],
   "source": [
    "mdc = cut.qsel(eV=0.0)\n",
    "mdc.qplot()"
   ]
  },
  {
   "cell_type": "markdown",
   "metadata": {},
   "source": [
    "First, we define the model and set the initial parameters."
   ]
  },
  {
   "cell_type": "code",
   "execution_count": null,
   "metadata": {},
   "outputs": [],
   "source": [
    "model = era.fit.models.MultiPeakModel(\n",
    "    npeaks=2, peak_shapes=[\"lorentzian\"], fd=False, background=\"linear\", convolve=True\n",
    ")\n",
    "\n",
    "params = model.make_params(\n",
    "    p0_center=-0.5,\n",
    "    p1_center=0.5,\n",
    "    p0_width=0.03,\n",
    "    p1_width=0.03,\n",
    "    lin_bkg={\"value\": 0.0, \"vary\": False},\n",
    "    const_bkg=0.0,\n",
    "    resolution=0.03,\n",
    ")\n",
    "params"
   ]
  },
  {
   "cell_type": "markdown",
   "metadata": {},
   "source": [
    "Then, we can fit the model to the data using {meth}`xarray.DataArray.xlm.modelfit` from {mod}`xarray-lmfit`:"
   ]
  },
  {
   "cell_type": "code",
   "execution_count": null,
   "metadata": {},
   "outputs": [],
   "source": [
    "result = mdc.xlm.modelfit(\"kx\", model=model, params=params)\n",
    "_ = result.modelfit_results.item().plot()"
   ]
  },
  {
   "cell_type": "markdown",
   "metadata": {},
   "source": [
    "## Fitting across multiple dimensions\n",
    "\n",
    ":::{note}\n",
    "\n",
    "There is a dedicated module for Fermi edge fitting and correction, described [here](fermi edge fitting). The following example is for illustrative purposes.\n",
    "\n",
    ":::\n",
    "\n",
    "Suppose you have to fit a single model to multiple data points across some dimension, or even multiple dimensions. `xarray-lmfit` can handle this with ease.\n",
    "\n",
    "Let's demonstrate this with a simulated cut that represents a curved Fermi edge at 100 K, with an energy broadening of 20 meV."
   ]
  },
  {
   "cell_type": "code",
   "execution_count": null,
   "metadata": {},
   "outputs": [],
   "source": [
    "from erlab.io.exampledata import generate_gold_edge\n",
    "\n",
    "gold = generate_gold_edge(temp=100, Eres=0.02, seed=1)\n",
    "gold.qplot(cmap=\"Greys\")"
   ]
  },
  {
   "cell_type": "markdown",
   "metadata": {},
   "source": [
    "We first select ± 0.2 eV around the Fermi level and fit the model across the energy\n",
    "axis for every EDC."
   ]
  },
  {
   "cell_type": "code",
   "execution_count": null,
   "metadata": {},
   "outputs": [],
   "source": [
    "gold_selected = gold.sel(eV=slice(-0.2, 0.2))\n",
    "result_ds = gold_selected.xlm.modelfit(\n",
    "    \"eV\",\n",
    "    era.fit.models.FermiEdgeModel(),\n",
    "    params={\n",
    "        \"temp\": {\"value\": 100.0, \"vary\": False},\n",
    "        \"back1\": {\"value\": 0.0, \"vary\": False},\n",
    "    },\n",
    "    guess=True,\n",
    ")\n",
    "result_ds"
   ]
  },
  {
   "cell_type": "markdown",
   "metadata": {},
   "source": [
    "Notice how the data variables in the resulting Dataset now depend on the coordinate\n",
    "`alpha`. Let's plot the center of the edge as a function of angle!"
   ]
  },
  {
   "cell_type": "code",
   "execution_count": null,
   "metadata": {},
   "outputs": [],
   "source": [
    "gold.qplot(cmap=\"Greys\")\n",
    "plt.errorbar(\n",
    "    gold_selected.alpha,\n",
    "    result_ds.modelfit_coefficients.sel(param=\"center\"),\n",
    "    result_ds.modelfit_stderr.sel(param=\"center\"),\n",
    "    fmt=\".\",\n",
    ")"
   ]
  },
  {
   "cell_type": "markdown",
   "metadata": {},
   "source": [
    "## Fitting multidimensional models\n",
    "\n",
    "Fitting is not limited to 1D models. The following example demonstrates a global fit to the cut with a multidimensional model. First, we normalize the data with the averaged intensity of each EDC and then fit the data to {class}`FermiEdge2dModel <erlab.analysis.fit.models.FermiEdge2dModel>`."
   ]
  },
  {
   "cell_type": "code",
   "execution_count": null,
   "metadata": {},
   "outputs": [],
   "source": [
    "gold_norm = gold_selected / gold_selected.mean(\"eV\")\n",
    "result_2d = gold_norm.T.xlm.modelfit(\n",
    "    coords=[\"eV\", \"alpha\"],\n",
    "    model=era.fit.models.FermiEdge2dModel(),\n",
    "    params={\"temp\": {\"value\": 100.0, \"vary\": False}},\n",
    "    guess=True,\n",
    ")\n",
    "result_2d"
   ]
  },
  {
   "cell_type": "markdown",
   "metadata": {},
   "source": [
    "Let's plot the fit results and the residuals."
   ]
  },
  {
   "cell_type": "code",
   "execution_count": null,
   "metadata": {},
   "outputs": [],
   "source": [
    "best_fit = result_2d.modelfit_best_fit.transpose(*gold_norm.dims)\n",
    "\n",
    "fig, axs = eplt.plot_slices(\n",
    "    [gold_norm, best_fit, best_fit - gold_norm],\n",
    "    figsize=(4, 5),\n",
    "    cmap=[\"viridis\", \"viridis\", \"bwr\"],\n",
    "    norm=[plt.Normalize(), plt.Normalize(), eplt.CenteredPowerNorm(1.0, vcenter=0)],\n",
    "    colorbar=\"all\",\n",
    "    hide_colorbar_ticks=False,\n",
    "    colorbar_kw={\"width\": 7},\n",
    ")\n",
    "eplt.set_titles(axs, [\"Data\", \"FermiEdge2dModel\", \"Residuals\"])"
   ]
  },
  {
   "cell_type": "markdown",
   "metadata": {},
   "source": [
    "## Fitting background models"
   ]
  },
  {
   "cell_type": "markdown",
   "metadata": {},
   "source": [
    "{meth}`xarray.Dataset.xlm.modelfit` and {meth}`xarray.DataArray.xlm.modelfit` works with any `lmfit` model, including background models from [lmfitxps](https://lmfitxps.readthedocs.io/). If you have [lmfitxps](https://lmfitxps.readthedocs.io/) installed, you can use the `ShirleyBG` model to iteratively fit a Shirley background to the data:\n",
    "```python\n",
    "from lmfitxps.models import ShirleyBG\n",
    "from lmfit.models import GaussianModel\n",
    "\n",
    "darr.xlm.modelfit(\"alpha\", GaussianModel() + ShirleyBG())\n",
    "```"
   ]
  },
  {
   "cell_type": "markdown",
   "metadata": {},
   "source": [
    "## Visualizing fits\n",
    "\n",
    ":::{note}\n",
    "\n",
    "If you are viewing this documentation online, the plots will not be interactive. Run the code locally to try it out.\n",
    "\n",
    ":::\n",
    "\n",
    "If [hvplot](https://github.com/holoviz/hvplot) is installed, we can visualize the fit results interactively with the {meth}`xarray.Dataset.qshow` accessor.\n",
    "\n",
    "To plot the data with the fit and fit components:"
   ]
  },
  {
   "cell_type": "code",
   "execution_count": null,
   "metadata": {},
   "outputs": [],
   "source": [
    "result_ds.qshow(plot_components=True)"
   ]
  },
  {
   "cell_type": "markdown",
   "metadata": {},
   "source": [
    "To plot each parameter as a function of the coordinate:"
   ]
  },
  {
   "cell_type": "code",
   "execution_count": null,
   "metadata": {},
   "outputs": [],
   "source": [
    "result_ds.qshow.params()"
   ]
  },
  {
   "cell_type": "markdown",
   "metadata": {},
   "source": [
    "## Parallelization\n",
    "\n",
    "For non-dask objects, you can achieve [joblib](https://joblib.readthedocs.io/en/stable/)-based parallelization:\n",
    "\n",
    "- For non-dask Datasets, basic parallelization across multiple data variables can be achieved with the `parallel` argument to {meth}`xarray.Dataset.xlm.modelfit`.\n",
    "\n",
    "- For parallelizing fits on a single DataArray along a dimension with many points, the {meth}`xarray.DataArray.parallel_fit` accessor can be used. This method is similar to {meth}`xarray.DataArray.xlm.modelfit`, but requires the name of the dimension to parallelize over instead of the coordinates to fit along. For example, to parallelize the fit in the previous example, you can use the following code:\n",
    "\n",
    "    ```python\n",
    "\n",
    "    gold_selected.parallel_fit(\n",
    "        dim=\"alpha\",\n",
    "        model=FermiEdgeModel(),\n",
    "        params={\"temp\": {\"value\": 100.0, \"vary\": False}},\n",
    "        guess=True,\n",
    "    )\n",
    "    ```\n",
    "\n",
    "    :::{note}\n",
    "  \n",
    "    - Note that the initial run will take a long time due to the overhead of creating parallel workers. Subsequent calls will run faster, since joblib's default backend will try to reuse the workers.\n",
    "      \n",
    "    - The accessor has some intrinsic overhead due to post-processing. If you need the best performance, handle the parallelization yourself with joblib and {meth}`lmfit.Model.fit <lmfit.model.Model.fit>`.\n",
    "\n",
    "    :::\n"
   ]
  },
  {
   "cell_type": "markdown",
   "metadata": {},
   "source": [
    "## Saving and loading fits\n",
    "\n",
    "See the [xarray-lmfit documentation](https://xarray-lmfit.readthedocs.io/) for details on saving and loading fit results."
   ]
  },
  {
   "cell_type": "markdown",
   "metadata": {},
   "source": [
    "## Using `iminuit`\n",
    "\n",
    ":::{note}\n",
    "\n",
    "This part requires the optional [iminuit](https://github.com/scikit-hep/iminuit) dependency.\n",
    "\n",
    ":::\n",
    "\n",
    "[iminuit](https://github.com/scikit-hep/iminuit) is a powerful Python interface to the [Minuit C++ library](https://root.cern.ch/doc/master/Minuit2Page.html) developed at CERN. To learn more, see the [iminuit documentation](http://scikit-hep.org/iminuit/).\n",
    "\n",
    "ERLabPy provides a thin wrapper around {class}`iminuit.Minuit` that allows you to use lmfit models with iminuit. The example below conducts the same fit as the previous one, but using iminuit."
   ]
  },
  {
   "cell_type": "code",
   "execution_count": null,
   "metadata": {},
   "outputs": [],
   "source": [
    "model = era.fit.models.MultiPeakModel(\n",
    "    npeaks=2, peak_shapes=[\"lorentzian\"], fd=False, convolve=True\n",
    ")\n",
    "\n",
    "m = era.fit.minuit.Minuit.from_lmfit(\n",
    "    model,\n",
    "    mdc,\n",
    "    mdc.kx,\n",
    "    p0_center=-0.5,\n",
    "    p1_center=0.5,\n",
    "    p0_width=0.03,\n",
    "    p1_width=0.03,\n",
    "    p0_height=1000,\n",
    "    p1_height=1000,\n",
    "    lin_bkg={\"value\": 0.0, \"vary\": False},\n",
    "    const_bkg=0.0,\n",
    "    resolution=0.03,\n",
    ")\n",
    "\n",
    "m.migrad()\n",
    "m.minos()\n",
    "m.hesse()"
   ]
  },
  {
   "cell_type": "markdown",
   "metadata": {},
   "source": [
    "You can also use the [interactive fitting interface](https://scikit-hep.org/iminuit/notebooks/interactive.html) provided by iminuit.\n",
    "\n",
    ":::{note}\n",
    "\n",
    "- Requires [ipywidgets](https://github.com/jupyter-widgets/ipywidgets) to be installed.\n",
    "    \n",
    "- If you are viewing this documentation online, changing the sliders won’t change the plot. run the code locally to try it out.\n",
    "\n",
    ":::"
   ]
  },
  {
   "cell_type": "code",
   "execution_count": null,
   "metadata": {
    "notebookRunGroups": {
     "groupValue": ""
    }
   },
   "outputs": [],
   "source": [
    "m.interactive()"
   ]
  }
 ],
 "metadata": {
  "kernelspec": {
   "display_name": ".venv",
   "language": "python",
   "name": "python3"
  },
  "language_info": {
   "codemirror_mode": {
    "name": "ipython",
    "version": 3
   },
   "file_extension": ".py",
   "mimetype": "text/x-python",
   "name": "python",
   "nbconvert_exporter": "python",
   "pygments_lexer": "ipython3",
   "version": "3.12.8"
  }
 },
 "nbformat": 4,
 "nbformat_minor": 4
}
