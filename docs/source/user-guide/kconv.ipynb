{
 "cells": [
  {
   "cell_type": "markdown",
   "metadata": {},
   "source": [
    "# Momentum conversion\n",
    "\n",
    "Momentum conversion in ERLabPy is exact with no small angle approximation, but is also very fast, thanks to the numba-accelerated trilinear interpolation in {mod}`erlab.analysis.interpolate`.\n",
    "\n",
    "(nomenclature)=\n",
    "## Nomenclature\n",
    "\n",
    "Momentum conversion in ERLabPy follows the nomenclature from {cite:t}`ishida2018kconv`.\n",
    "\n",
    "All experimental geometry can be classified into two configurations, Type 1 and Type 2, based on the relative position of the rotation axis and the analyzer slit. These can be further divided into 4 configurations depending on the use of photoelectron deflectors (DA).\n",
    "\n",
    "Definition of angles differ for each geometry, but in all cases, $\\delta$ is the azimuthal angle that indicates in-plane rotation, $\\alpha$ is the angle detected by the analyzer, and $\\beta$ is the angle along which mapping is performed.\n",
    "\n",
    "For instance, imagine a typical Type 1 setup with a vertical slit that acquires maps by rotating about the `z` axis in the lab frame. In this case, the polar angle (rotation about `z`) is $\\beta$, and the tilt angle becomes $\\xi$.\n",
    "\n",
    "The following table summarizes angle conventions for commonly encountered configurations.\n",
    "\n",
    "```{eval-rst}\n",
    "+---------------------------+---------------+-------------------+-----------+----------+-----------+-----------+-----------+\n",
    "| Analyzer slit orientation | Mapping angle | Configuration     | Polar     | Tilt     | Deflector | Azimuth   | Analyzer  |\n",
    "+===========================+===============+===================+===========+==========+===========+===========+===========+\n",
    "| Vertical                  | Polar         | 1 (Type 1)        | ``beta``  | ``xi``   |           | ``delta`` | ``alpha`` |\n",
    "+---------------------------+---------------+-------------------+-----------+----------+-----------+           |           |\n",
    "| Horizontal                | Tilt          | 2 (Type 2)        | ``xi``    | ``beta`` |           |           |           |\n",
    "+---------------------------+---------------+-------------------+-----------+----------+-----------+           |           |\n",
    "| Vertical                  | Deflector     | 3 (Type 1 + DA)   | ``chi``   | ``xi``   | ``beta``  |           |           |\n",
    "+---------------------------+               +-------------------+           |          |           |           |           |\n",
    "| Horizontal                |               | 4 (Type 2 + DA)   |           |          |           |           |           |\n",
    "+---------------------------+---------------+-------------------+-----------+----------+-----------+-----------+-----------+\n",
    "```\n",
    "\n",
    "\n",
    ":::{note}\n",
    "\n",
    "Analyzers that can measure two-dimensional angular information simultaneously (e.g. time-of-flight analyzers) can be treated like hemispherical analyzers equipped with a deflector.\n",
    "\n",
    ":::"
   ]
  },
  {
   "cell_type": "code",
   "execution_count": null,
   "metadata": {
    "editable": true,
    "slideshow": {
     "slide_type": ""
    },
    "tags": []
   },
   "outputs": [],
   "source": [
    "import matplotlib.pyplot as plt\n",
    "import numpy as np\n",
    "\n",
    "import erlab.plotting as eplt"
   ]
  },
  {
   "cell_type": "code",
   "execution_count": null,
   "metadata": {
    "nbsphinx": "hidden",
    "tags": [
     "remove-cell"
    ]
   },
   "outputs": [],
   "source": [
    "import xarray\n",
    "# Before starting, we set some options for xarray.\n",
    "\n",
    "# - The first option, ``display_expand_data=False``, will collapse the data by\n",
    "#   default in the `repr` of DataArrays and Datasets.\n",
    "\n",
    "# - The second option, ``keep_attrs=True``, ensures that the attributes of the data\n",
    "#   are kept when performing operations such as sum and mean. Since parameters for\n",
    "#   momentum conversion such as angle offsets and inner potential are stored as\n",
    "#   attributes, this is important.\n",
    "%config InlineBackend.figure_formats = [\"svg\", \"pdf\"]\n",
    "plt.rcParams[\"figure.dpi\"] = 96\n",
    "\n",
    "\n",
    "_ = xarray.set_options(display_expand_data=False, keep_attrs=True)"
   ]
  },
  {
   "cell_type": "markdown",
   "metadata": {},
   "source": [
    "## Momentum conversion\n",
    "\n",
    ":::{note}\n",
    "\n",
    "For momentum conversion to work properly, the data must follow the conventions listed [here](data-conventions).\n",
    "\n",
    ":::\n",
    "\n",
    "### Setting parameters\n",
    "\n",
    "Parameters that are needed for momentum conversion are:\n",
    "\n",
    "- The information about the experimental configuration\n",
    "- Work function of the system\n",
    "- The inner potential $V_0$ (for photon energy dependent data)\n",
    "- Angle offsets\n",
    "\n",
    "These parameters are all stored as data attributes. The `kspace` accessor provides various ways to access and modify these parameters.\n",
    "\n",
    "\n",
    "#### Experimental configuration\n",
    "\n",
    "The first step is to set the experimental configuration. Most of the time, this information is already recorded in the data file by the data loader plugin. If not, it can be set manually using {attr}`xarray.DataArray.kspace.configuration`:\n",
    "```python\n",
    "data.kspace.configuration = erlab.constants.AxesConfiguration.Type1DA\n",
    "```\n",
    "\n",
    "This will set the configuration to Type 1 with a deflector. The configuration can also be set using numbers:\n",
    "```python\n",
    "data.kspace.configuration = 3\n",
    "```\n",
    "\n",
    "\n",
    "Sometimes, the automatically determined configuration may be incorrect. For example, plugins for setups equipped with an electrostatic deflector will assign configuration 3 or 4 to the data, but the data may have been acquired *without* the deflector, in which case configuration 1 or 2 should be used. Also, some setups (e.g. ALS BL7) allow the analzyer to be rotated about the lens axis, changing the slit orientation. It is not always possible to determine the configuration from the data alone, and in such cases, the configuration can be converted manually with {meth}`xarray.DataArray.kspace.as_configuration`:\n",
    "\n",
    "```python\n",
    "data = data.kspace.as_configuration(3)\n",
    "```\n",
    "\n",
    "#### Work function of the system\n",
    "\n",
    "The work function of the system can be set using {attr}`xarray.DataArray.kspace.work_function`:\n",
    "```python\n",
    "data.kspace.work_function = 4.5\n",
    "```\n",
    "\n",
    "#### Inner potential $V_0$\n",
    "\n",
    "The inner potential (for photon energy dependent data) can be set using {attr}`xarray.DataArray.kspace.inner_potential`:\n",
    "```python\n",
    "data.kspace.inner_potential = 10.0\n",
    "```\n",
    "\n",
    "#### Angle offsets\n",
    "\n",
    "Angle offsets can be set using {attr}`xarray.DataArray.kspace.angle_offsets`. For demonstration, let's generate some example data, this time in angle coordinates."
   ]
  },
  {
   "cell_type": "code",
   "execution_count": null,
   "metadata": {},
   "outputs": [],
   "source": [
    "from erlab.io.exampledata import generate_data_angles\n",
    "\n",
    "dat = generate_data_angles(shape=(200, 60, 300), assign_attributes=True, seed=1).T\n",
    "dat"
   ]
  },
  {
   "cell_type": "markdown",
   "metadata": {},
   "source": [
    "Angle offsets can be viewed with {attr}`xarray.DataArray.kspace.offsets`:"
   ]
  },
  {
   "cell_type": "code",
   "execution_count": null,
   "metadata": {},
   "outputs": [],
   "source": [
    "dat.kspace.offsets"
   ]
  },
  {
   "cell_type": "markdown",
   "metadata": {},
   "source": [
    "Since we haven't set any offsets, they are all zero. Now, if we want to set the azimuthal angle to 60 degrees and the polar offset to 30 degrees, we can update the offsets as follows:"
   ]
  },
  {
   "cell_type": "code",
   "execution_count": null,
   "metadata": {},
   "outputs": [],
   "source": [
    "dat.kspace.offsets.update(delta=60.0, beta=30.0)"
   ]
  },
  {
   "cell_type": "markdown",
   "metadata": {},
   "source": [
    "The offsets behave like a dictionary, and you can also reset or override all offsets at once using a dictionary:"
   ]
  },
  {
   "cell_type": "code",
   "execution_count": null,
   "metadata": {},
   "outputs": [],
   "source": [
    "dat.kspace.offsets = dict(delta=30.0)\n",
    "\n",
    "dat.kspace.offsets"
   ]
  },
  {
   "cell_type": "markdown",
   "metadata": {},
   "source": [
    "See {attr}`xarray.DataArray.kspace.offsets` for more ways to access and modify offsets."
   ]
  },
  {
   "cell_type": "markdown",
   "metadata": {},
   "source": [
    ":::{note}\n",
    "\n",
    "Offsets can be easily determined with the [interactive momentum conversion tool](kspace-interactive).\n",
    "\n",
    ":::"
   ]
  },
  {
   "cell_type": "markdown",
   "metadata": {},
   "source": [
    "### Converting to momentum space\n",
    "\n",
    "Momentum conversion is done by the {meth}`xarray.DataArray.kspace.convert` method after applying appropriate offsets. The bounds and resolution are automatically determined from the data if no input is provided. The method returns a new DataArray in momentum space."
   ]
  },
  {
   "cell_type": "code",
   "execution_count": null,
   "metadata": {},
   "outputs": [],
   "source": [
    "dat.kspace.offsets = dict(delta=30, xi=0.0, beta=0.0)\n",
    "dat.kspace.work_function = 4.5\n",
    "\n",
    "dat_kconv = dat.kspace.convert()\n",
    "dat_kconv"
   ]
  },
  {
   "cell_type": "markdown",
   "metadata": {},
   "source": [
    "Let us plot the original and converted data side by side."
   ]
  },
  {
   "cell_type": "code",
   "execution_count": null,
   "metadata": {},
   "outputs": [],
   "source": [
    "fig, axs = plt.subplots(1, 2, layout=\"compressed\")\n",
    "eplt.plot_array(dat.qsel(eV=-0.3), ax=axs[0], aspect=\"equal\")\n",
    "eplt.plot_array(dat_kconv.qsel(eV=-0.3), ax=axs[1], aspect=\"equal\")"
   ]
  },
  {
   "cell_type": "markdown",
   "metadata": {},
   "source": [
    "We can see the effect of angle offsets on the conversion.\n",
    "\n",
    "The step size and bounds of momentum coordinates can be set manually as well:"
   ]
  },
  {
   "cell_type": "code",
   "execution_count": null,
   "metadata": {},
   "outputs": [],
   "source": [
    "dat_kconv = dat.kspace.convert(\n",
    "    bounds=dict(kx=(-0.5, 0.5), ky=(-0.5, 0.5)),\n",
    "    resolution=dict(kx=0.01, ky=0.01),\n",
    ")\n",
    "dat_kconv"
   ]
  },
  {
   "cell_type": "code",
   "execution_count": null,
   "metadata": {},
   "outputs": [],
   "source": [
    "fig, axs = plt.subplots(1, 2, layout=\"compressed\")\n",
    "eplt.plot_array(dat.qsel(eV=-0.3), ax=axs[0], aspect=\"equal\")\n",
    "eplt.plot_array(dat_kconv.qsel(eV=-0.3), ax=axs[1], aspect=\"equal\")"
   ]
  },
  {
   "cell_type": "markdown",
   "metadata": {},
   "source": [
    "The target momentum coordinates can also be set manually:"
   ]
  },
  {
   "cell_type": "code",
   "execution_count": null,
   "metadata": {},
   "outputs": [],
   "source": [
    "dat.kspace.convert(kx=np.linspace(-0.6, 0.6, 100))"
   ]
  },
  {
   "cell_type": "markdown",
   "metadata": {},
   "source": [
    "## Converting coordinates only\n",
    "\n",
    "Sometimes, we need to obtain the converted *coordinates* in momentum space without modifying the data grid.\n",
    "\n",
    "This can be done using {meth}`xarray.DataArray.kspace.convert_coords` which adds momentum coordinates to the DataArray.\n",
    "\n",
    "The code below demonstrates a possible use case where we convert the coordinates of a cut to momentum space and overlay the location of the cut on the converted constant energy map.\n",
    "\n",
    "First, we select a cut from the original data along constant `beta`."
   ]
  },
  {
   "cell_type": "code",
   "execution_count": null,
   "metadata": {},
   "outputs": [],
   "source": [
    "cut = dat.qsel(beta=-10)\n",
    "cut"
   ]
  },
  {
   "cell_type": "code",
   "execution_count": null,
   "metadata": {},
   "outputs": [],
   "source": [
    "cut = cut.kspace.convert_coords()\n",
    "cut"
   ]
  },
  {
   "cell_type": "markdown",
   "metadata": {},
   "source": [
    "We can see that coordinate conversion adds momentum coordinates `kx` and `ky`, but does not affect any existing coordinates. Now, let's annotate the cut location on the constant energy map."
   ]
  },
  {
   "cell_type": "code",
   "execution_count": null,
   "metadata": {},
   "outputs": [],
   "source": [
    "fig, ax = plt.subplots()\n",
    "\n",
    "dat_kconv.qsel(eV=-0.3).qplot(ax=ax, aspect=\"equal\")\n",
    "\n",
    "mdc = cut.qsel(eV=-0.3)\n",
    "ax.plot(mdc.ky, mdc.kx, color=\"r\")"
   ]
  },
  {
   "cell_type": "markdown",
   "metadata": {},
   "source": [
    "## $k_z$-dependent data\n",
    "\n",
    "Converting $k_z$-dependent data can be done in the exact same way by choosing an appropriate value for the inner potential $V_0$. Let's generate some example data that resembles photon energy dependent cuts."
   ]
  },
  {
   "cell_type": "code",
   "execution_count": null,
   "metadata": {},
   "outputs": [],
   "source": [
    "from erlab.io.exampledata import generate_hvdep_cuts\n",
    "\n",
    "hvdep = generate_hvdep_cuts(seed=1)\n",
    "hvdep"
   ]
  },
  {
   "cell_type": "markdown",
   "metadata": {},
   "source": [
    "In this simulated data, the cuts are not through the BZ center, so the `beta` angle also\n",
    "varies for each photon energy. \n",
    "\n",
    "We can convert this data to momentum space like before, after setting the inner\n",
    "potential."
   ]
  },
  {
   "cell_type": "code",
   "execution_count": null,
   "metadata": {},
   "outputs": [],
   "source": [
    "hvdep.kspace.inner_potential = 10.0\n",
    "hvdep_kconv = hvdep.kspace.convert()\n",
    "hvdep_kconv"
   ]
  },
  {
   "cell_type": "code",
   "execution_count": null,
   "metadata": {},
   "outputs": [],
   "source": [
    "fig, axs = plt.subplots(1, 2, layout=\"constrained\")\n",
    "eplt.plot_array(hvdep.qsel(eV=-0.3).T, ax=axs[0])\n",
    "eplt.plot_array(hvdep_kconv.qsel(eV=-0.3).T, ax=axs[1])"
   ]
  },
  {
   "cell_type": "markdown",
   "metadata": {},
   "source": [
    ":::{note}\n",
    "\n",
    "Since the generated example data is 2D-like, there is no visible periodicity in $k_z$, so it is impossible to estimate $V_0$. In practice, $V_0$ must be chosen so that the periodicity in $k_z$ matches the known periodicity of the lattice.\n",
    "\n",
    ":::"
   ]
  },
  {
   "cell_type": "markdown",
   "metadata": {},
   "source": [
    "### Annotating the photon energy\n",
    "\n",
    "Each photon energy can be annotated on the converted data using {meth}`xarray.DataArray.kspace.convert_coords` with the data before conversion as described above. However, this only works for photon energies that exist in the data. \n",
    "\n",
    "The annotation can be done more easily by using {meth}`xarray.DataArray.kspace.hv_to_kz` on the converted data. The method returns the $k_z$ value for given photon energies based on the parameters stored in the data.\n",
    "\n",
    "Here, we calculate the $k_z$ values for three different photon energies and select a\n",
    "given binding energy."
   ]
  },
  {
   "cell_type": "code",
   "execution_count": null,
   "metadata": {},
   "outputs": [],
   "source": [
    "kz_values = hvdep_kconv.kspace.hv_to_kz([30, 45, 60]).qsel(eV=-0.3)\n",
    "kz_values"
   ]
  },
  {
   "cell_type": "markdown",
   "metadata": {},
   "source": [
    "We can now plot the calculated $k_z$ values on top of the converted data."
   ]
  },
  {
   "cell_type": "code",
   "execution_count": null,
   "metadata": {},
   "outputs": [],
   "source": [
    "fig, ax = plt.subplots(layout=\"constrained\")\n",
    "\n",
    "hvdep_kconv.qsel(eV=-0.3).T.qplot(ax=ax, aspect=\"equal\")\n",
    "\n",
    "for i in range(len(kz_values.hv)):\n",
    "    kz = kz_values.isel(hv=i)\n",
    "\n",
    "    ax.plot(kz.kx, kz, label=rf\"$h\\nu = {kz.hv:d}$ eV\")\n",
    "\n",
    "ax.legend()"
   ]
  },
  {
   "cell_type": "markdown",
   "metadata": {},
   "source": [
    "(kspace-interactive)=\n",
    "## Interactive conversion\n",
    "\n",
    "For three dimensional momentum conversion like maps or photon energy scans, an interactive window can be opened where you can adjust the parameters and see the effect right away.\n",
    "\n",
    "There are three ways to invoke the GUI. The first one is to call {meth}`xarray.DataArray.kspace.interactive`:\n",
    "\n",
    "```python\n",
    "data.kspace.interactive()\n",
    "```\n",
    "\n",
    "The second option is to invoke the GUI with {func}`erlab.interactive.ktool`. This option is recommended because the name of the input data will be automatically detected and applied to the generated code that is copied to the clipboard.\n",
    "\n",
    "```python\n",
    "import erlab.interactive as eri\n",
    "\n",
    "eri.ktool(data)\n",
    "```\n",
    "\n",
    "The final option is to trigger the GUI from the ImageTool with the \"Open in ktool\" menu in the View menu. The button will be disabled if the data is not compatible with {func}`erlab.interactive.ktool`.\n",
    "\n",
    "The GUI is divided into two tabs.\n",
    "\n",
    "```{image} ../images/ktool_1_light.png\n",
    ":align: center\n",
    ":alt: KspaceTool 1\n",
    ":class: only-light\n",
    "```\n",
    "\n",
    ":::{only} format_html\n",
    "\n",
    "```{image} ../images/ktool_1_dark.png\n",
    ":align: center\n",
    ":alt: KspaceTool 1\n",
    ":class: only-dark\n",
    "```\n",
    ":::\n",
    "\n",
    "The first tab is for setting momentum conversion parameters. The image is updated in real time as you change the parameters. Clicking the \"Copy code\" button will copy the code for conversion to the clipboard. The \"Open in ImageTool\" button performs a full three-dimensional conversion and opens the result in the ImageTool. \n",
    "\n",
    "```{image} ../images/ktool_2_light.png\n",
    ":align: center\n",
    ":alt: KspaceTool 2\n",
    ":class: only-light\n",
    "```\n",
    ":::{only} format_html\n",
    "\n",
    "```{image} ../images/ktool_2_dark.png\n",
    ":align: center\n",
    ":alt: KspaceTool 2\n",
    ":class: only-dark\n",
    "```\n",
    ":::\n",
    "\n",
    "The second tab provides visualization options. You can overlay Brillouin zones and high symmetry points on the result, adjust colors, apply binning, and more. The \"Add Circle ROI\" button allows you to add a circular region of interest to the image, which can be edited by dragging or right-clicking on it.\n",
    "\n",
    "You can pass some parameters to customize the GUI. For example, you can set the Brillouin zone size/orientation and the colormap like this:\n",
    "\n",
    "```python\n",
    "data.kspace.interactive(\n",
    "    avec=np.array([[-3.485, 6.03], [6.97, 0.0]]), rotate_bz=30.0, cmap=\"viridis\"\n",
    ")\n",
    "```\n",
    "\n",
    "See the documentation of {func}`erlab.interactive.ktool` for more information."
   ]
  }
 ],
 "metadata": {
  "kernelspec": {
   "display_name": ".venv",
   "language": "python",
   "name": "python3"
  },
  "language_info": {
   "codemirror_mode": {
    "name": "ipython",
    "version": 3
   },
   "file_extension": ".py",
   "mimetype": "text/x-python",
   "name": "python",
   "nbconvert_exporter": "python",
   "pygments_lexer": "ipython3",
   "version": "3.12.8"
  }
 },
 "nbformat": 4,
 "nbformat_minor": 4
}
