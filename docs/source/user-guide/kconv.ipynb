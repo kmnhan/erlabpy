{
 "cells": [
  {
   "cell_type": "markdown",
   "metadata": {},
   "source": [
    "Momentum conversion\n",
    "==================="
   ]
  },
  {
   "cell_type": "raw",
   "metadata": {
    "editable": true,
    "raw_mimetype": "text/restructuredtext",
    "slideshow": {
     "slide_type": ""
    },
    "tags": [],
    "vscode": {
     "languageId": "raw"
    }
   },
   "source": [
    "Momentum conversion in ERLabPy is exact with no small angle approximation, but is also\n",
    "very fast, thanks to the numba-accelerated trilinear interpolation in\n",
    ":mod:`erlab.analysis.interpolate`\\ .\n",
    "\n",
    ".. _nomenclature:"
   ]
  },
  {
   "cell_type": "markdown",
   "metadata": {},
   "source": [
    "Nomenclature\n",
    "------------"
   ]
  },
  {
   "cell_type": "raw",
   "metadata": {
    "editable": true,
    "raw_mimetype": "text/restructuredtext",
    "slideshow": {
     "slide_type": ""
    },
    "tags": [],
    "vscode": {
     "languageId": "raw"
    }
   },
   "source": [
    "Momentum conversion in ERLabPy follows the nomenclature from :cite:t:`ishida2018kconv`.\n",
    "All experimental geometry are classified into 4 types. Definition of angles differ for\n",
    "each geometry.\n",
    "\n",
    "For instance, imagine a typical Type 1 setup with a vertical slit that acquires maps by\n",
    "rotating about the `z` axis in the lab frame. In this case, the polar angle (rotation\n",
    "about `z`) is :math:`β`, and the tilt angle is :math:`ξ`.\n",
    "\n",
    "In all cases, :math:`δ` is the azimuthal angle that indicates in-plane rotation, and\n",
    ":math:`α` is the angle along the slit."
   ]
  },
  {
   "cell_type": "code",
   "execution_count": null,
   "metadata": {
    "editable": true,
    "slideshow": {
     "slide_type": ""
    },
    "tags": []
   },
   "outputs": [],
   "source": [
    "import erlab.plotting.erplot as eplt\n",
    "import matplotlib.pyplot as plt"
   ]
  },
  {
   "cell_type": "code",
   "execution_count": null,
   "metadata": {
    "nbsphinx": "hidden"
   },
   "outputs": [],
   "source": [
    "import xarray\n",
    "# Before starting, we set some options for xarray.\n",
    "\n",
    "# - The first option, ``display_expand_data=False``, will collapse the data by\n",
    "#   default in the `repr` of DataArrays and Datasets.\n",
    "\n",
    "# - The second option, ``keep_attrs=True``, ensures that the attributes of the data\n",
    "#   are kept when performing operations such as sum and mean. Since parameters for\n",
    "#   momentum conversion such as angle offsets and inner potential are stored as\n",
    "#   attributes, this is important.\n",
    "%config InlineBackend.figure_formats = [\"svg\", \"pdf\"]\n",
    "plt.rcParams[\"figure.dpi\"] = 96\n",
    "\n",
    "\n",
    "_ = xarray.set_options(display_expand_data=False, keep_attrs=True)"
   ]
  },
  {
   "cell_type": "markdown",
   "metadata": {
    "editable": true,
    "slideshow": {
     "slide_type": ""
    },
    "tags": []
   },
   "source": [
    "Let's generate some example data, this time in angle coordinates."
   ]
  },
  {
   "cell_type": "code",
   "execution_count": null,
   "metadata": {
    "editable": true,
    "slideshow": {
     "slide_type": ""
    },
    "tags": []
   },
   "outputs": [],
   "source": [
    "from erlab.io.exampledata import generate_data_angles\n",
    "\n",
    "dat = generate_data_angles(shape=(200, 60, 300), assign_attributes=True, seed=1).T\n",
    "dat"
   ]
  },
  {
   "cell_type": "markdown",
   "metadata": {},
   "source": [
    "Let us define a 2D cut from the map data we just generated."
   ]
  },
  {
   "cell_type": "code",
   "execution_count": null,
   "metadata": {},
   "outputs": [],
   "source": [
    "cut = dat.sel(beta=10.0, method=\"nearest\")\n",
    "eplt.plot_array(cut)"
   ]
  },
  {
   "cell_type": "raw",
   "metadata": {
    "editable": true,
    "raw_mimetype": "text/restructuredtext",
    "slideshow": {
     "slide_type": ""
    },
    "tags": [],
    "vscode": {
     "languageId": "raw"
    }
   },
   "source": [
    "Although the functions for momentum conversion are implemented in\n",
    ":mod:`erlab.analysis.kspace`\\ , the actual conversion is performed using an `xarray\n",
    "accessor <https://docs.xarray.dev/en/stable/internals/extending-xarray.html>`_. Let's\n",
    "see how it works."
   ]
  },
  {
   "cell_type": "markdown",
   "metadata": {},
   "source": [
    "Converting to momentum space\n",
    "----------------------------"
   ]
  },
  {
   "cell_type": "raw",
   "metadata": {
    "editable": true,
    "raw_mimetype": "text/restructuredtext",
    "slideshow": {
     "slide_type": ""
    },
    "tags": [],
    "vscode": {
     "languageId": "raw"
    }
   },
   "source": [
    "Momentum conversion is done by the :meth:`convert\n",
    "<erlab.accessors.kspace.MomentumAccessor.convert>` method of the ``kspace`` accessor.\n",
    "The bounds and resolution are automatically determined from the data if no input is\n",
    "provided. The method returns a new DataArray in momentum space."
   ]
  },
  {
   "cell_type": "code",
   "execution_count": null,
   "metadata": {},
   "outputs": [],
   "source": [
    "dat_kconv = dat.kspace.convert()\n",
    "dat_kconv"
   ]
  },
  {
   "cell_type": "markdown",
   "metadata": {},
   "source": [
    "Let us plot the original and converted data side by side."
   ]
  },
  {
   "cell_type": "code",
   "execution_count": null,
   "metadata": {},
   "outputs": [],
   "source": [
    "fig, axs = plt.subplots(1, 2, layout=\"compressed\")\n",
    "eplt.plot_array(dat.sel(eV=-0.3, method=\"nearest\"), ax=axs[0], aspect=\"equal\")\n",
    "eplt.plot_array(dat_kconv.sel(eV=-0.3, method=\"nearest\"), ax=axs[1], aspect=\"equal\")"
   ]
  },
  {
   "cell_type": "markdown",
   "metadata": {},
   "source": [
    "Setting parameters\n",
    "------------------"
   ]
  },
  {
   "cell_type": "raw",
   "metadata": {
    "editable": true,
    "raw_mimetype": "text/restructuredtext",
    "slideshow": {
     "slide_type": ""
    },
    "tags": [],
    "vscode": {
     "languageId": "raw"
    }
   },
   "source": [
    "Parameters that are needed for momentum conversion are the information about the\n",
    "experimental configuration, the inner potential :math:`V_0` (for photon energy dependent\n",
    "data), work function, and angle offsets. These parameters are all stored as data\n",
    "attributes. The ``kspace`` accessor provides various ways to access and modify these\n",
    "parameters.\n",
    "\n",
    "See :meth:`configuration <erlab.accessors.kspace.MomentumAccessor.configuration>`,\n",
    ":meth:`inner_potential <erlab.accessors.kspace.MomentumAccessor.inner_potential>`,\n",
    ":meth:`work_function <erlab.accessors.kspace.MomentumAccessor.work_function>`, and\n",
    ":meth:`offsets <erlab.accessors.kspace.MomentumAccessor.offsets>` on how to access and\n",
    "modify each of these parameters.\n",
    "\n",
    "First, let's check the angle offsets."
   ]
  },
  {
   "cell_type": "code",
   "execution_count": null,
   "metadata": {},
   "outputs": [],
   "source": [
    "dat.kspace.offsets"
   ]
  },
  {
   "cell_type": "markdown",
   "metadata": {},
   "source": [
    "Since we haven't set any offsets, they are all zero. We will set the azimuthal angle to\n",
    "60 degrees and the polar offset to 30 degrees and see what happens."
   ]
  },
  {
   "cell_type": "code",
   "execution_count": null,
   "metadata": {},
   "outputs": [],
   "source": [
    "dat.kspace.offsets.update(delta=60.0, beta=30.0)"
   ]
  },
  {
   "cell_type": "code",
   "execution_count": null,
   "metadata": {},
   "outputs": [],
   "source": [
    "dat_kconv = dat.kspace.convert()\n",
    "dat_kconv"
   ]
  },
  {
   "cell_type": "markdown",
   "metadata": {},
   "source": [
    "Plotting the converted data again, we can see the effect of angle offsets on the conversion."
   ]
  },
  {
   "cell_type": "code",
   "execution_count": null,
   "metadata": {},
   "outputs": [],
   "source": [
    "fig, axs = plt.subplots(1, 2, layout=\"compressed\")\n",
    "eplt.plot_array(dat.sel(eV=-0.3, method=\"nearest\"), ax=axs[0], aspect=\"equal\")\n",
    "eplt.plot_array(dat_kconv.sel(eV=-0.3, method=\"nearest\"), ax=axs[1], aspect=\"equal\")"
   ]
  },
  {
   "cell_type": "markdown",
   "metadata": {},
   "source": [
    "Interactive conversion\n",
    "----------------------"
   ]
  },
  {
   "cell_type": "raw",
   "metadata": {
    "editable": true,
    "raw_mimetype": "text/restructuredtext",
    "slideshow": {
     "slide_type": ""
    },
    "tags": [],
    "vscode": {
     "languageId": "raw"
    }
   },
   "source": [
    "For three dimensional momentum conversion like maps or photon energy scans, an\n",
    "interactive window can be opened where you can adjust the parameters and see the effect\n",
    "right away.\n",
    "\n",
    "There are two ways to invoke the GUI. The first one is to call the ``interactive``\n",
    "method on the accessor: \n",
    "\n",
    ".. code-block:: python\n",
    "\n",
    "    data.kspace.interactive()\n",
    "\n",
    "The second option is to invoke the GUI directly with :func:`erlab.interactive.ktool`.\n",
    "The difference is that the latter will automatically determine the name of the input\n",
    "data and apply it to the generated code that is copied to the clipboard.\n",
    "\n",
    ".. code-block:: python\n",
    "\n",
    "    import erlab.interactive as eri\n",
    "\n",
    "    eri.ktool(data)\n",
    "\n",
    "The GUI is divided into two tabs.\n",
    "\n",
    ".. image:: ../images/ktool_1_light.png\n",
    "    :align: center\n",
    "    :alt: KspaceTool 1\n",
    "    :class: only-light\n",
    "\n",
    ".. only:: format_html\n",
    "\n",
    "    .. image:: ../images/ktool_1_dark.png\n",
    "        :align: center\n",
    "        :alt: KspaceTool 1\n",
    "        :class: only-dark\n",
    "\n",
    "The first tab is for setting momentum conversion parameters. The image is updated in\n",
    "real time as you change the parameters. Clicking the \"Copy code\" button will copy the\n",
    "code for conversion to the clipboard. The \"Open in ImageTool\" button performs a full\n",
    "three-dimensional conversion and opens the result in the ImageTool. \n",
    "\n",
    ".. image:: ../images/ktool_2_light.png\n",
    "    :align: center\n",
    "    :alt: KspaceTool 2\n",
    "    :class: only-light\n",
    "\n",
    ".. only:: format_html\n",
    "\n",
    "    .. image:: ../images/ktool_2_dark.png\n",
    "        :align: center\n",
    "        :alt: KspaceTool 2\n",
    "        :class: only-dark\n",
    "\n",
    "The second tab provides visualization options. You can overlay Brillouin zones and high\n",
    "symmetry points on the result, adjust colors, and apply binning."
   ]
  }
 ],
 "metadata": {
  "kernelspec": {
   "display_name": "Python 3 (ipykernel)",
   "language": "python",
   "name": "python3"
  },
  "language_info": {
   "codemirror_mode": {
    "name": "ipython",
    "version": 3
   },
   "file_extension": ".py",
   "mimetype": "text/x-python",
   "name": "python",
   "nbconvert_exporter": "python",
   "pygments_lexer": "ipython3",
   "version": "3.12.6"
  }
 },
 "nbformat": 4,
 "nbformat_minor": 4
}
