{
 "cells": [
  {
   "cell_type": "markdown",
   "metadata": {},
   "source": [
    "Filtering\n",
    "========="
   ]
  },
  {
   "cell_type": "raw",
   "id": "37312770",
   "metadata": {
    "editable": true,
    "raw_mimetype": "text/restructuredtext",
    "slideshow": {
     "slide_type": ""
    },
    "tags": [],
    "vscode": {
     "languageId": "raw"
    }
   },
   "source": [
    "Image processing-related functions are commonly used in the analysis of ARPES data. The\n",
    ":mod:`erlab.analysis.image` submodule provides a collection of functions that are useful\n",
    "for processing and analyzing images.\n",
    "\n",
    "The module includes xarray wrappers for several functions in :mod:`scipy.ndimage` and\n",
    ":mod:`scipy.signal`, along with several processing methods that are commonly used to\n",
    "visualize ARPES data.s"
   ]
  },
  {
   "cell_type": "markdown",
   "id": "acef985d",
   "metadata": {},
   "source": [
    "Image smoothing filters\n",
    "-----------------------"
   ]
  },
  {
   "cell_type": "code",
   "execution_count": null,
   "id": "3ac5bc3b",
   "metadata": {},
   "outputs": [],
   "source": [
    "import erlab.analysis as era"
   ]
  },
  {
   "cell_type": "markdown",
   "id": "fd4ee1a3",
   "metadata": {},
   "source": [
    "First, let us generate some example data: a simple tight binding simulation of graphene."
   ]
  },
  {
   "cell_type": "code",
   "execution_count": null,
   "id": "8633209c",
   "metadata": {
    "editable": true,
    "slideshow": {
     "slide_type": ""
    },
    "tags": []
   },
   "outputs": [],
   "source": [
    "from erlab.io.exampledata import generate_data_angles\n",
    "\n",
    "cut = generate_data_angles(\n",
    "    shape=(500, 1, 500),\n",
    "    angrange={\"alpha\": (-15, 15), \"beta\": (-5, 5)},\n",
    "    seed=1,\n",
    "    bandshift=-0.2,\n",
    ").T\n",
    "cut.qplot()"
   ]
  },
  {
   "cell_type": "raw",
   "id": "16477885",
   "metadata": {
    "editable": true,
    "raw_mimetype": "text/restructuredtext",
    "slideshow": {
     "slide_type": ""
    },
    "tags": [],
    "vscode": {
     "languageId": "raw"
    }
   },
   "source": [
    "Here, we apply a Gaussian filter in coordinate units using\n",
    ":func:`erlab.analysis.image.gaussian_filter` to simulate an instrumental broadening of\n",
    "10 meV and 0.2 degrees:"
   ]
  },
  {
   "cell_type": "code",
   "execution_count": null,
   "id": "82c2454f",
   "metadata": {},
   "outputs": [],
   "source": [
    "cut_smooth = era.image.gaussian_filter(cut, sigma=dict(eV=0.01, alpha=0.2))\n",
    "cut_smooth.qplot()"
   ]
  },
  {
   "cell_type": "raw",
   "id": "9e68fdb4",
   "metadata": {
    "editable": true,
    "raw_mimetype": "text/restructuredtext",
    "slideshow": {
     "slide_type": ""
    },
    "tags": [],
    "vscode": {
     "languageId": "raw"
    }
   },
   "source": [
    "For all arguments and available filters, see the API reference at :mod:`erlab.analysis.image`."
   ]
  },
  {
   "cell_type": "markdown",
   "id": "00cf2453",
   "metadata": {},
   "source": [
    "Visualizing dispersive features\n",
    "-------------------------------\n",
    "\n",
    "There are several methods that are used to visualize dispersive features in ARPES data. To demonstrate, we first generate a synthetic ARPES cut with broad features:"
   ]
  },
  {
   "cell_type": "code",
   "execution_count": null,
   "id": "00d3b00f",
   "metadata": {},
   "outputs": [],
   "source": [
    "from erlab.io.exampledata import generate_data_angles\n",
    "\n",
    "cut = generate_data_angles(\n",
    "    shape=(500, 1, 500),\n",
    "    angrange={\"alpha\": (-5, 5), \"beta\": (-10, 10)},\n",
    "    temp=50.0,\n",
    "    seed=1,\n",
    "    bandshift=-0.15,\n",
    "    Simag=0.1,\n",
    "    count=1e11,\n",
    ").T\n",
    "cut.qplot()"
   ]
  },
  {
   "cell_type": "raw",
   "id": "0d36f0c0",
   "metadata": {
    "editable": true,
    "raw_mimetype": "text/restructuredtext",
    "slideshow": {
     "slide_type": ""
    },
    "tags": [],
    "vscode": {
     "languageId": "raw"
    }
   },
   "source": [
    "The curvature can be calculated with :func:`erlab.analysis.image.curvature`:"
   ]
  },
  {
   "cell_type": "code",
   "execution_count": null,
   "id": "f2c428d9",
   "metadata": {},
   "outputs": [],
   "source": [
    "result = era.image.curvature(cut, a0=1.0, factor=1.0)\n",
    "\n",
    "result.qplot(vmax=0, cmap=\"Greys_r\")"
   ]
  },
  {
   "cell_type": "raw",
   "id": "626a74d6",
   "metadata": {
    "editable": true,
    "raw_mimetype": "text/restructuredtext",
    "slideshow": {
     "slide_type": ""
    },
    "tags": [],
    "vscode": {
     "languageId": "raw"
    }
   },
   "source": [
    "For different methods and arguments, see the API reference at :mod:`erlab.analysis.image`."
   ]
  },
  {
   "cell_type": "markdown",
   "metadata": {},
   "source": [
    "Interactive differentiation\n",
    "---------------------------"
   ]
  },
  {
   "cell_type": "raw",
   "id": "dfc0348b",
   "metadata": {
    "editable": true,
    "raw_mimetype": "text/restructuredtext",
    "slideshow": {
     "slide_type": ""
    },
    "tags": [],
    "vscode": {
     "languageId": "raw"
    }
   },
   "source": [
    "A GUI for interactive smoothing and differentiation can be invoked with :func:`erlab.interactive.dtool`:\n",
    "\n",
    ".. code-block:: python\n",
    "\n",
    "    import erlab.interactive as eri\n",
    "\n",
    "    eri.dtool(cut)\n",
    "\n",
    ".. image:: ../images/dtool_light.png\n",
    "    :align: center\n",
    "    :alt: DerivativeTool\n",
    "    :class: only-light\n",
    "\n",
    ".. only:: format_html\n",
    "\n",
    "    .. image:: ../images/dtool_dark.png\n",
    "        :align: center\n",
    "        :alt: DerivativeTool\n",
    "        :class: only-dark\n",
    "\n",
    "- The first section interpolates the data to a grid prior to smoothing.\n",
    "- The second section applies Gaussian filtering prior to differentiation.\n",
    "- In the third section, selecting different tabs will apply different methods. Each tab contains parameters relevant to the corresponding method.\n",
    "- Clicking the copy button will copy the code for differentiation to the clipboard.\n",
    "- Both the data and the result can be opened in ImageTool from the right-click menu of each plot, where it can be exported to a file."
   ]
  },
  {
   "cell_type": "raw",
   "id": "41bac675",
   "metadata": {
    "editable": true,
    "raw_mimetype": "text/restructuredtext",
    "slideshow": {
     "slide_type": ""
    },
    "tags": [],
    "vscode": {
     "languageId": "raw"
    }
   },
   "source": []
  },
  {
   "cell_type": "raw",
   "id": "761eafa9",
   "metadata": {
    "editable": true,
    "raw_mimetype": "text/restructuredtext",
    "slideshow": {
     "slide_type": ""
    },
    "tags": [],
    "vscode": {
     "languageId": "raw"
    }
   },
   "source": []
  }
 ],
 "metadata": {
  "kernelspec": {
   "display_name": "Python 3 (ipykernel)",
   "language": "python",
   "name": "python3"
  },
  "language_info": {
   "codemirror_mode": {
    "name": "ipython",
    "version": 3
   },
   "file_extension": ".py",
   "mimetype": "text/x-python",
   "name": "python",
   "nbconvert_exporter": "python",
   "pygments_lexer": "ipython3",
   "version": "3.12.6"
  }
 },
 "nbformat": 4,
 "nbformat_minor": 5
}
