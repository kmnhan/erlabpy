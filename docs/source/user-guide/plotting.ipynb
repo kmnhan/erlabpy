{
 "cells": [
  {
   "cell_type": "markdown",
   "metadata": {},
   "source": [
    "Plotting\n",
    "========\n",
    "\n",
    "ERLabPy provides a number of plotting functions to help visualize data and create\n",
    "publication quality figures.\n",
    "\n",
    "Importing\n",
    "---------"
   ]
  },
  {
   "cell_type": "raw",
   "metadata": {
    "editable": true,
    "raw_mimetype": "text/restructuredtext",
    "slideshow": {
     "slide_type": ""
    },
    "tags": [],
    "vscode": {
     "languageId": "raw"
    }
   },
   "source": [
    "The key module to plotting is :mod:`erlab.plotting.erplot`\\ , which serves as an\n",
    "interface to various plotting functions in ERLabPy, similar to how\n",
    ":mod:`matplotlib.pyplot` works. To import it, use the following code:"
   ]
  },
  {
   "cell_type": "code",
   "execution_count": null,
   "metadata": {
    "editable": true,
    "slideshow": {
     "slide_type": ""
    },
    "tags": []
   },
   "outputs": [],
   "source": [
    "import matplotlib.pyplot as plt\n",
    "import erlab.plotting.erplot as eplt"
   ]
  },
  {
   "cell_type": "code",
   "execution_count": null,
   "metadata": {
    "nbsphinx": "hidden"
   },
   "outputs": [],
   "source": [
    "%config InlineBackend.figure_formats = [\"svg\", \"pdf\"]\n",
    "plt.rcParams[\"figure.dpi\"] = 96\n",
    "import xarray as xr\n",
    "\n",
    "xr.set_options(display_expand_data=False)\n",
    "nb_execution_mode = \"cache\""
   ]
  },
  {
   "cell_type": "markdown",
   "metadata": {
    "editable": true,
    "slideshow": {
     "slide_type": ""
    },
    "tags": []
   },
   "source": [
    "First, let us generate some example data from a simple tight binding model of graphene.\n",
    "A rigid shift of 200 meV has been applied so that the Dirac cone is visible."
   ]
  },
  {
   "cell_type": "code",
   "execution_count": null,
   "metadata": {
    "editable": true,
    "slideshow": {
     "slide_type": ""
    },
    "tags": []
   },
   "outputs": [],
   "source": [
    "from erlab.io.exampledata import generate_data\n",
    "\n",
    "dat = generate_data(bandshift=-0.2, seed=1).T"
   ]
  },
  {
   "cell_type": "code",
   "execution_count": null,
   "metadata": {},
   "outputs": [],
   "source": [
    "dat"
   ]
  },
  {
   "cell_type": "raw",
   "metadata": {
    "editable": true,
    "raw_mimetype": "text/restructuredtext",
    "slideshow": {
     "slide_type": ""
    },
    "tags": []
   },
   "source": [
    "We can see that the generated data is a three-dimensional :class:`xarray.DataArray`\\ . Now, let's extract a cut along :math:`k_y = 0.3`."
   ]
  },
  {
   "cell_type": "code",
   "execution_count": null,
   "metadata": {
    "editable": true,
    "slideshow": {
     "slide_type": ""
    },
    "tags": []
   },
   "outputs": [],
   "source": [
    "cut = dat.qsel(ky=0.3)\n",
    "cut"
   ]
  },
  {
   "cell_type": "markdown",
   "metadata": {},
   "source": [
    "Plotting 2D data\n",
    "----------------"
   ]
  },
  {
   "cell_type": "raw",
   "metadata": {
    "editable": true,
    "raw_mimetype": "text/restructuredtext",
    "slideshow": {
     "slide_type": ""
    },
    "tags": [],
    "vscode": {
     "languageId": "raw"
    }
   },
   "source": [
    "The fastest way to plot a 2D array like this is to use :func:`plot_array <erlab.plotting.general.plot_array>`. Each axis is automatically labeled."
   ]
  },
  {
   "cell_type": "code",
   "execution_count": null,
   "metadata": {
    "editable": true,
    "slideshow": {
     "slide_type": ""
    },
    "tags": []
   },
   "outputs": [],
   "source": [
    "eplt.plot_array(cut)"
   ]
  },
  {
   "cell_type": "raw",
   "metadata": {
    "editable": true,
    "raw_mimetype": "text/restructuredtext",
    "slideshow": {
     "slide_type": ""
    },
    "tags": [],
    "vscode": {
     "languageId": "raw"
    }
   },
   "source": [
    ":func:`plot_array <erlab.plotting.general.plot_array>` takes many arguments that can customize the look of your plot. The following is an example of some of the functionality provided. For all arguments, see the `API reference <../reference.rst>`_."
   ]
  },
  {
   "cell_type": "code",
   "execution_count": null,
   "metadata": {
    "editable": true,
    "slideshow": {
     "slide_type": ""
    },
    "tags": []
   },
   "outputs": [],
   "source": [
    "eplt.plot_array(\n",
    "    cut, cmap=\"Greys\", gamma=0.5, colorbar=True, colorbar_kw=dict(width=10, ticks=[])\n",
    ")"
   ]
  },
  {
   "cell_type": "raw",
   "metadata": {
    "editable": true,
    "raw_mimetype": "text/restructuredtext",
    "slideshow": {
     "slide_type": ""
    },
    "tags": [],
    "vscode": {
     "languageId": "raw"
    }
   },
   "source": [
    ":func:`plot_array <erlab.plotting.general.plot_array>` can also be accessed (for 2D data) through the :class:`qplot <erlab.accessors.general.PlotAccessor>` accessor."
   ]
  },
  {
   "cell_type": "code",
   "execution_count": null,
   "metadata": {},
   "outputs": [],
   "source": [
    "cut.qplot(cmap=\"Greys\", gamma=0.5)"
   ]
  },
  {
   "cell_type": "markdown",
   "metadata": {},
   "source": [
    "Next, let's add some annotations! The following code adds a line indicating the Fermi level, labels high symmetry points, and adds a colorbar. Here, unlike the previous example, the colorbar was added after plotting. Like this, adding elements separately instead of using keyword arguments can make the code more readable in complex plots."
   ]
  },
  {
   "cell_type": "code",
   "execution_count": null,
   "metadata": {
    "editable": true,
    "slideshow": {
     "slide_type": ""
    },
    "tags": []
   },
   "outputs": [],
   "source": [
    "eplt.plot_array(cut, cmap=\"Greys\", gamma=0.5)\n",
    "\n",
    "eplt.fermiline()\n",
    "eplt.mark_points([-0.525, 0.525], [\"K\", \"K\"], fontsize=10, pad=(0, 10))\n",
    "eplt.nice_colorbar(width=10, ticks=[])"
   ]
  },
  {
   "cell_type": "markdown",
   "metadata": {
    "editable": true,
    "raw_mimetype": "text/restructuredtext",
    "slideshow": {
     "slide_type": ""
    },
    "tags": []
   },
   "source": [
    "Slices\n",
    "------\n",
    "\n",
    "What if we want to plot multiple slices at once? We should create subplots to place the\n",
    "slices. ``plt.subplots`` is very useful in managing multiple axes and figures. If you\n",
    "are unfamiliar with the syntax, visit the [relevant matplotlib\n",
    "documentation](https://matplotlib.org/stable/gallery/subplots_axes_and_figures/subplots_demo.html).\n",
    "\n",
    "Suppose we want to plot constant energy surfaces at specific binding energies, say, at `[-0.4, -0.2, 0.0]`. We could create three subplots and iterate over the axes."
   ]
  },
  {
   "cell_type": "code",
   "execution_count": null,
   "metadata": {
    "editable": true,
    "slideshow": {
     "slide_type": ""
    },
    "tags": []
   },
   "outputs": [],
   "source": [
    "energies = [-0.4, -0.2, 0.0]\n",
    "\n",
    "fig, axs = plt.subplots(1, 3, layout=\"compressed\", sharey=True)\n",
    "for energy, ax in zip(energies, axs):\n",
    "    const_energy_surface = dat.qsel(eV=energy)\n",
    "    eplt.plot_array(const_energy_surface, ax=ax, gamma=0.5, aspect=\"equal\")"
   ]
  },
  {
   "cell_type": "raw",
   "metadata": {
    "editable": true,
    "raw_mimetype": "text/restructuredtext",
    "slideshow": {
     "slide_type": ""
    },
    "tags": [],
    "vscode": {
     "languageId": "raw"
    }
   },
   "source": [
    "Here, we plotted each constant energy surface with :func:`plot_array\n",
    "<erlab.plotting.general.plot_array>`. To remove the duplicated y axis labels and add\n",
    "some annotations, we can use :func:`clean_labels <erlab.plotting.general.clean_labels>`\n",
    "and :func:`label_subplot_properties\n",
    "<erlab.plotting.annotations.label_subplot_properties>`:"
   ]
  },
  {
   "cell_type": "code",
   "execution_count": null,
   "metadata": {},
   "outputs": [],
   "source": [
    "fig, axs = plt.subplots(1, 3, layout=\"compressed\", sharey=True)\n",
    "for energy, ax in zip(energies, axs):\n",
    "    const_energy_surface = dat.qsel(eV=energy)\n",
    "    eplt.plot_array(const_energy_surface, ax=ax, gamma=0.5, aspect=\"equal\")\n",
    "\n",
    "eplt.clean_labels(axs)  # removes shared y labels\n",
    "eplt.label_subplot_properties(axs, values={\"Eb\": energies})  # annotates energy"
   ]
  },
  {
   "cell_type": "raw",
   "metadata": {
    "editable": true,
    "raw_mimetype": "text/restructuredtext",
    "slideshow": {
     "slide_type": ""
    },
    "tags": [],
    "vscode": {
     "languageId": "raw"
    }
   },
   "source": [
    "Not bad. However, when it gets to multiple slices along multiple datasets, it\n",
    "gets cumbersome. Luckily, ERLabPy provides a function that automates the subplot\n",
    "creation, slicing, and annotation for you:\n",
    ":func:`plot_slices <erlab.plotting.general.plot_slices>`\\ , which reduces the same code to a\n",
    "one-liner. See the `API reference <../reference.rst>`_ for a full description of\n",
    "all possible arguments."
   ]
  },
  {
   "cell_type": "code",
   "execution_count": null,
   "metadata": {
    "editable": true,
    "slideshow": {
     "slide_type": ""
    },
    "tags": []
   },
   "outputs": [],
   "source": [
    "fig, axs = eplt.plot_slices([dat], eV=[-0.4, -0.2, 0.0], gamma=0.5, axis=\"image\")"
   ]
  },
  {
   "cell_type": "markdown",
   "metadata": {},
   "source": [
    "We can also plot the data integrated over an energy window, in this case with a width of 200 meV by adding the `eV_width` argument:"
   ]
  },
  {
   "cell_type": "code",
   "execution_count": null,
   "metadata": {},
   "outputs": [],
   "source": [
    "fig, axs = eplt.plot_slices(\n",
    "    [dat], eV=[-0.4, -0.2, 0.0], eV_width=0.2, gamma=0.5, axis=\"image\"\n",
    ")"
   ]
  },
  {
   "cell_type": "markdown",
   "metadata": {},
   "source": [
    "Cuts along constant $k_y$ can be plotted analogously."
   ]
  },
  {
   "cell_type": "code",
   "execution_count": null,
   "metadata": {
    "editable": true,
    "slideshow": {
     "slide_type": ""
    },
    "tags": []
   },
   "outputs": [],
   "source": [
    "fig, axs = eplt.plot_slices([dat], ky=[0.0, 0.1, 0.3], gamma=0.5, figsize=(6, 2))"
   ]
  },
  {
   "cell_type": "markdown",
   "metadata": {},
   "source": [
    "Here, we notice that the first two plots slices through regions with less spectral weight, so the color across the three subplots are not on the same scale. This may be misleading in some occasions where intensity across different slices are important. Luckily, we have a function that can unify the color limits across multiple axes.\n",
    "\n",
    "The same effect can be achieved by passing on `same_limits=True` to `plot_slices`."
   ]
  },
  {
   "cell_type": "code",
   "execution_count": null,
   "metadata": {
    "scrolled": true
   },
   "outputs": [],
   "source": [
    "fig, axs = eplt.plot_slices([dat], ky=[0.0, 0.1, 0.3], gamma=0.5, figsize=(6, 2))\n",
    "eplt.unify_clim(axs)"
   ]
  },
  {
   "cell_type": "markdown",
   "metadata": {},
   "source": [
    "We can also choose a reference axis to get the color limits from."
   ]
  },
  {
   "cell_type": "code",
   "execution_count": null,
   "metadata": {},
   "outputs": [],
   "source": [
    "fig, axs = eplt.plot_slices([dat], ky=[0.0, 0.1, 0.3], gamma=0.5, figsize=(6, 2))\n",
    "eplt.unify_clim(axs, target=axs.flat[1])"
   ]
  },
  {
   "cell_type": "markdown",
   "metadata": {
    "editable": true,
    "raw_mimetype": "text/restructuredtext",
    "slideshow": {
     "slide_type": ""
    },
    "tags": []
   },
   "source": [
    "What if we want to plot constant energy surfaces and cuts in the same figure? We can create the subplots first and then utilize the `axes` argument of `plot_slices`."
   ]
  },
  {
   "cell_type": "code",
   "execution_count": null,
   "metadata": {
    "editable": true,
    "slideshow": {
     "slide_type": ""
    },
    "tags": []
   },
   "outputs": [],
   "source": [
    "fig, axs = plt.subplots(2, 3, layout=\"compressed\", sharex=True, sharey=\"row\")\n",
    "eplt.plot_slices([dat], eV=[-0.4, -0.2, 0.0], gamma=0.5, axes=axs[0, :], axis=\"image\")\n",
    "eplt.plot_slices([dat], ky=[0.0, 0.1, 0.3], gamma=0.5, axes=axs[1, :])\n",
    "eplt.clean_labels(axs)"
   ]
  },
  {
   "cell_type": "markdown",
   "metadata": {},
   "source": [
    "2D colormaps\n",
    "------------"
   ]
  },
  {
   "cell_type": "raw",
   "metadata": {
    "editable": true,
    "raw_mimetype": "text/restructuredtext",
    "slideshow": {
     "slide_type": ""
    },
    "tags": [],
    "vscode": {
     "languageId": "raw"
    }
   },
   "source": [
    "2D colormaps are a method to visualize two data with a single image by mapping one of\n",
    "the data to the lightness of the color and the other to the hue. This is useful when\n",
    "visualizing dichroic or spin-resolved ARPES data :cite:p:`tusche2015spin`.\n",
    "\n",
    "Let us begin with the simulated constant energy contours of Graphene, 0.3 eV below and\n",
    "above the Fermi level."
   ]
  },
  {
   "cell_type": "code",
   "execution_count": null,
   "metadata": {},
   "outputs": [],
   "source": [
    "dat0, dat1 = generate_data(\n",
    "    shape=(250, 250, 2), Erange=(-0.3, 0.3), temp=0.0, seed=1, count=1e6\n",
    ").T\n",
    "\n",
    "_, axs = eplt.plot_slices(\n",
    "    [dat0, dat1],\n",
    "    order=\"F\",\n",
    "    subplot_kw={\"layout\": \"compressed\", \"sharey\": \"row\"},\n",
    "    axis=\"scaled\",\n",
    "    label=True,\n",
    ")\n",
    "# eplt.label_subplot_properties(axs, values=dict(Eb=[-0.3, 0.3]))"
   ]
  },
  {
   "cell_type": "markdown",
   "metadata": {},
   "source": [
    "Suppose we want to visualize the sum and the normalized difference between the two. The simplest way is to plot them side by side."
   ]
  },
  {
   "cell_type": "code",
   "execution_count": null,
   "metadata": {},
   "outputs": [],
   "source": [
    "dat_sum = dat0 + dat1\n",
    "dat_ndiff = (dat0 - dat1) / dat_sum\n",
    "\n",
    "eplt.plot_slices(\n",
    "    [dat_sum, dat_ndiff],\n",
    "    order=\"F\",\n",
    "    subplot_kw={\"layout\": \"compressed\", \"sharey\": \"row\"},\n",
    "    cmap=[\"viridis\", \"bwr\"],\n",
    "    axis=\"scaled\",\n",
    ")\n",
    "eplt.proportional_colorbar()"
   ]
  },
  {
   "cell_type": "markdown",
   "metadata": {},
   "source": [
    "The difference array is noisy for small values of the sum. We can plot using a 2D\n",
    "colomap, where `dat_ndiff` is mapped to the color along the colormap and `dat_sum` is\n",
    "mapped to the lightness of the colormap."
   ]
  },
  {
   "cell_type": "code",
   "execution_count": null,
   "metadata": {},
   "outputs": [],
   "source": [
    "eplt.plot_array_2d(dat_sum, dat_ndiff)"
   ]
  },
  {
   "cell_type": "markdown",
   "metadata": {},
   "source": [
    "The color normalization for each axis can be set independently with `lnorm` and `cnorm`.\n",
    "The appearance of the colorbar axes can be customized with the returned `Colorbar`\n",
    "object."
   ]
  },
  {
   "cell_type": "code",
   "execution_count": null,
   "metadata": {},
   "outputs": [],
   "source": [
    "_, cb = eplt.plot_array_2d(\n",
    "    dat_sum,\n",
    "    dat_ndiff,\n",
    "    lnorm=eplt.InversePowerNorm(0.5),\n",
    "    cnorm=eplt.CenteredInversePowerNorm(0.7, vcenter=0.0, halfrange=1.0),\n",
    ")\n",
    "cb.ax.set_xticks(cb.ax.get_xlim())\n",
    "cb.ax.set_xticklabels([\"Min\", \"Max\"])"
   ]
  },
  {
   "cell_type": "markdown",
   "metadata": {
    "editable": true,
    "jp-MarkdownHeadingCollapsed": true,
    "raw_mimetype": "text/restructuredtext",
    "slideshow": {
     "slide_type": ""
    },
    "tags": []
   },
   "source": [
    "Styling figures\n",
    "---------------\n",
    "\n",
    "You can control the look and feel of matplotlib figures with [*style sheets* and *rcParams*](https://matplotlib.org/stable/users/explain/customizing.html). In addition to the [options provided by matplotlib](https://matplotlib.org/stable/gallery/style_sheets/style_sheets_reference.html), ERLabPy provides some style sheets that are listed below. Note that style sheets that change the default font requires the font to be installed on the system. To see how each one looks, try running [the code provided by matplotlib](https://matplotlib.org/stable/gallery/style_sheets/style_sheets_reference.html).\n",
    "\n",
    "| Style Name | Description                                                                                         |\n",
    "|------------|-----------------------------------------------------------------------------------------------------|\n",
    "| khan       | Personal preferences of the package author.                                                         |\n",
    "| fira       | Changes the default font to Fira Sans.                                                              |\n",
    "| firalight  | Changes the default font to Fira Sans Light.                                                        |\n",
    "| times      | Changes the default font to Times New Roman.                                                        |\n",
    "| nature     | Changes the default font to Arial, and tweaks some aspects such as padding and default figure size. |\n"
   ]
  },
  {
   "cell_type": "code",
   "execution_count": null,
   "metadata": {
    "editable": true,
    "slideshow": {
     "slide_type": ""
    },
    "tags": []
   },
   "outputs": [],
   "source": [
    "with plt.style.context([\"nature\"]):\n",
    "    eplt.plot_array(cut, cmap=\"Greys\", gamma=0.5)"
   ]
  },
  {
   "cell_type": "markdown",
   "metadata": {},
   "source": [
    "Tips\n",
    "----"
   ]
  },
  {
   "cell_type": "markdown",
   "metadata": {},
   "source": [
    "- In the python ecosystem, there are some libraries that provide great colormaps, such as [cmasher](https://cmasher.readthedocs.io>), [cmocean](https://matplotlib.org/cmocean/>), and [colorcet](https://colorcet.holoviz.org>).\n",
    "\n",
    "- Although matplotlib is a powerful library, it is heavy and slow, and better suited for static plots. For interactive plots, libraries such as [Plotly](https://github.com/plotly/plotly.py>) or [Bokeh](https://github.com/bokeh/bokeh>) are popular.\n",
    "\n",
    "  The hvplot library is a high-level plotting library that provides a simple interface to Bokeh, Plotly, and Matplotlib. It is particularly useful for interactive plots and can be used with xarray objects. Here are some examples that uses the Bokeh backend:"
   ]
  },
  {
   "cell_type": "code",
   "execution_count": null,
   "metadata": {},
   "outputs": [],
   "source": [
    "import hvplot.xarray\n",
    "\n",
    "cut.hvplot(x=\"kx\", y=\"eV\", cmap=\"Greys\", aspect=1.5)"
   ]
  },
  {
   "cell_type": "code",
   "execution_count": null,
   "metadata": {},
   "outputs": [],
   "source": [
    "dat.hvplot(x=\"kx\", y=\"ky\", cmap=\"Greys\", aspect=\"equal\", widget_location=\"bottom\")"
   ]
  },
  {
   "cell_type": "raw",
   "metadata": {
    "editable": true,
    "raw_mimetype": "text/restructuredtext",
    "slideshow": {
     "slide_type": ""
    },
    "tags": [],
    "vscode": {
     "languageId": "raw"
    }
   },
   "source": [
    ".. note::\n",
    "\n",
    "    If you are viewing this documentation online, the slider above will not work. To see\n",
    "    the interactive plot, you can run the notebook locally after installing `hvplot\n",
    "    <https://github.com/holoviz/hvplot>`_.\n",
    "\n",
    "For more information, see the `hvplot documentation <https://hvplot.holoviz.org/>`_."
   ]
  }
 ],
 "metadata": {
  "kernelspec": {
   "display_name": "Python 3 (ipykernel)",
   "language": "python",
   "name": "python3"
  },
  "language_info": {
   "codemirror_mode": {
    "name": "ipython",
    "version": 3
   },
   "file_extension": ".py",
   "mimetype": "text/x-python",
   "name": "python",
   "nbconvert_exporter": "python",
   "pygments_lexer": "ipython3",
   "version": "3.12.6"
  }
 },
 "nbformat": 4,
 "nbformat_minor": 4
}
